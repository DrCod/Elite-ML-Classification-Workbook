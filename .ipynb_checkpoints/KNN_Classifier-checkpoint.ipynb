{
 "cells": [
  {
   "cell_type": "code",
   "execution_count": 1,
   "metadata": {},
   "outputs": [
    {
     "name": "stderr",
     "output_type": "stream",
     "text": [
      "/home/dronny/anaconda3/envs/tensorflow/lib/python3.6/site-packages/tensorflow/python/framework/dtypes.py:526: FutureWarning: Passing (type, 1) or '1type' as a synonym of type is deprecated; in a future version of numpy, it will be understood as (type, (1,)) / '(1,)type'.\n",
      "  _np_qint8 = np.dtype([(\"qint8\", np.int8, 1)])\n",
      "/home/dronny/anaconda3/envs/tensorflow/lib/python3.6/site-packages/tensorflow/python/framework/dtypes.py:527: FutureWarning: Passing (type, 1) or '1type' as a synonym of type is deprecated; in a future version of numpy, it will be understood as (type, (1,)) / '(1,)type'.\n",
      "  _np_quint8 = np.dtype([(\"quint8\", np.uint8, 1)])\n",
      "/home/dronny/anaconda3/envs/tensorflow/lib/python3.6/site-packages/tensorflow/python/framework/dtypes.py:528: FutureWarning: Passing (type, 1) or '1type' as a synonym of type is deprecated; in a future version of numpy, it will be understood as (type, (1,)) / '(1,)type'.\n",
      "  _np_qint16 = np.dtype([(\"qint16\", np.int16, 1)])\n",
      "/home/dronny/anaconda3/envs/tensorflow/lib/python3.6/site-packages/tensorflow/python/framework/dtypes.py:529: FutureWarning: Passing (type, 1) or '1type' as a synonym of type is deprecated; in a future version of numpy, it will be understood as (type, (1,)) / '(1,)type'.\n",
      "  _np_quint16 = np.dtype([(\"quint16\", np.uint16, 1)])\n",
      "/home/dronny/anaconda3/envs/tensorflow/lib/python3.6/site-packages/tensorflow/python/framework/dtypes.py:530: FutureWarning: Passing (type, 1) or '1type' as a synonym of type is deprecated; in a future version of numpy, it will be understood as (type, (1,)) / '(1,)type'.\n",
      "  _np_qint32 = np.dtype([(\"qint32\", np.int32, 1)])\n",
      "/home/dronny/anaconda3/envs/tensorflow/lib/python3.6/site-packages/tensorflow/python/framework/dtypes.py:535: FutureWarning: Passing (type, 1) or '1type' as a synonym of type is deprecated; in a future version of numpy, it will be understood as (type, (1,)) / '(1,)type'.\n",
      "  np_resource = np.dtype([(\"resource\", np.ubyte, 1)])\n"
     ]
    }
   ],
   "source": [
    "import tensorflow as tf\n",
    "from tensorflow import keras\n",
    "import numpy as np\n",
    "import matplotlib.pyplot as plt"
   ]
  },
  {
   "cell_type": "code",
   "execution_count": 3,
   "metadata": {},
   "outputs": [],
   "source": [
    "# Download Fashion MNIST dataset\n",
    "fashion_mnist = keras.datasets.fashion_mnist\n",
    "(trainImages, trainLabels), (testImages, testLabels) = fashion_mnist.load_data()"
   ]
  },
  {
   "cell_type": "code",
   "execution_count": 4,
   "metadata": {},
   "outputs": [
    {
     "name": "stdout",
     "output_type": "stream",
     "text": [
      "--------------------------\n",
      "Dimensions of Train Set\n",
      "Dimension(trImages)= (60000, 28, 28)\n",
      "There are 60000 images where each image is (28, 28) in size\n",
      "There are 10 unique image labels\n",
      "--------------------------\n",
      "Dimensions of Test Set\n",
      "Dimension(tImages)= (10000, 28, 28) Dimension(tLabels)= 10000\n",
      "--------------------------\n"
     ]
    }
   ],
   "source": [
    "print(\"--------------------------\")\n",
    "print(\"Dimensions of Train Set\")\n",
    "print(\"Dimension(trImages)=\",np.shape(trainImages))\n",
    "print(\"There are\", np.shape(trainImages)[0], \"images where each image is\", np.shape(trainImages)[1:], \"in size\")\n",
    "print(\"There are\", np.shape(np.unique(testLabels))[0], \"unique image labels\")\n",
    "print(\"--------------------------\")\n",
    "print(\"Dimensions of Test Set\")\n",
    "print(\"Dimension(tImages)=\",np.shape(testImages), \"Dimension(tLabels)=\", np.shape(testLabels)[0])\n",
    "print(\"--------------------------\")"
   ]
  },
  {
   "cell_type": "markdown",
   "metadata": {},
   "source": [
    "K-Nearest Neighbor Algorithm\n",
    "K-Nearest Neighbor (or KNN) algorithm is a non-parametric classification algorithm.Non-parametric model, contrary to the name, has a very large number of parameters. In the case of Fashion MNIST example, we will use the entire Train Set as parameters of KNN.\n",
    "\n",
    "The basic idea behind KNN is simple. Given a (test) vector or image to classify or label, find  k  vectors or images in Train Set that are \"closest\" to the (test) vector or image. With the  k  closest vectors or images, there are  k  labels. Assign the most frequent label of  k  labels to the (test) vector or image.\n",
    "\n",
    "\n",
    "\n",
    "Closeness Metric\n",
    "The idea of \"closest\" or \"closeness\" depends on the metric we choose to use; for instance\n",
    "\n",
    "Euclidean Distance between two vectors  x=<x1,x2,x3>  and  y=<y1,y2,y3>  is defined as  dED:={(x1−y1)2+(x2−y2)2+(x3−y3)2}12 . In academic literature, you may see this being called L2 norm of  x−y .\n",
    "L1 Distance between two vectors  x=<x1,x2,x3>  and  y=<y1,y2,y3>  is defined as  dL1:=|x1−y1|+|x2−y2|+|x3−y3| \n",
    "L0 Distance between two vectors  x=<x1,x2,x3>  and  y=<y1,y2,y3>  is defined as the number of non-zero elements in  x−y .\n",
    "In this article, we will use the Euclidean distance and L0 distance.\n",
    "\n",
    "Finding  k  Closest Vectors in Train Set\n",
    "Given a vector (or image) from Test Set, we can't say which ones in the Train Set are closest without computing the metric over all elements in the Train Set. In the case of Fashion MNIST, we compute \"closeness\" metric of the vector from Test Set to every element, i.e., 60000 of them, in the Train Set and this will result in 60000 distance values. As you can imagine, if the Train Set is larger then it gets all that more time-consuming or computationally consuming to find all these distance values.\n",
    "\n",
    "Optimizing Parameter  k \n",
    "I don't know if there is a systematic way to go about optimizing this parameter but try different \"good\" values for  k  and pick the one that works best. Let's review some extreme choices for  k :\n",
    "\n",
    "If  k=1 , then labeling of the test vector or image is determined by one element in the Train Set\n",
    "If  k=60000 , then label of the test vector is determined by all elements in the Train Set and if there is class imbalance, i.e., there are more images with a certain label in the Test Set, then every test vector will get the exact same label."
   ]
  },
  {
   "cell_type": "code",
   "execution_count": 5,
   "metadata": {},
   "outputs": [
    {
     "name": "stdout",
     "output_type": "stream",
     "text": [
      "\n",
      "WARNING: The TensorFlow contrib module will not be included in TensorFlow 2.0.\n",
      "For more information, please see:\n",
      "  * https://github.com/tensorflow/community/blob/master/rfcs/20180907-contrib-sunset.md\n",
      "  * https://github.com/tensorflow/addons\n",
      "If you depend on functionality not listed there, please file an issue.\n",
      "\n"
     ]
    },
    {
     "ename": "NameError",
     "evalue": "name 'paramk' is not defined",
     "output_type": "error",
     "traceback": [
      "\u001b[0;31m---------------------------------------------------------------------------\u001b[0m",
      "\u001b[0;31mNameError\u001b[0m                                 Traceback (most recent call last)",
      "\u001b[0;32m<ipython-input-5-a27aff7beea5>\u001b[0m in \u001b[0;36m<module>\u001b[0;34m\u001b[0m\n\u001b[1;32m      9\u001b[0m \u001b[0mcomputeL0Dist\u001b[0m \u001b[0;34m=\u001b[0m \u001b[0mtf\u001b[0m\u001b[0;34m.\u001b[0m\u001b[0mcount_nonzero\u001b[0m\u001b[0;34m(\u001b[0m\u001b[0mxThresholded\u001b[0m \u001b[0;34m-\u001b[0m \u001b[0myThresholded\u001b[0m\u001b[0;34m,\u001b[0m \u001b[0maxis\u001b[0m\u001b[0;34m=\u001b[0m\u001b[0;34m[\u001b[0m\u001b[0;36m1\u001b[0m\u001b[0;34m,\u001b[0m\u001b[0;36m2\u001b[0m\u001b[0;34m]\u001b[0m\u001b[0;34m)\u001b[0m \u001b[0;31m# Computing L0 Norm by reducing along axes\u001b[0m\u001b[0;34m\u001b[0m\u001b[0;34m\u001b[0m\u001b[0m\n\u001b[1;32m     10\u001b[0m \u001b[0mfindKClosestTrImages\u001b[0m \u001b[0;34m=\u001b[0m \u001b[0mtf\u001b[0m\u001b[0;34m.\u001b[0m\u001b[0mcontrib\u001b[0m\u001b[0;34m.\u001b[0m\u001b[0mframework\u001b[0m\u001b[0;34m.\u001b[0m\u001b[0margsort\u001b[0m\u001b[0;34m(\u001b[0m\u001b[0mcomputeL0Dist\u001b[0m\u001b[0;34m,\u001b[0m \u001b[0mdirection\u001b[0m\u001b[0;34m=\u001b[0m\u001b[0;34m'ASCENDING'\u001b[0m\u001b[0;34m)\u001b[0m \u001b[0;31m# sorting (image) indices in order of ascending metrics, pick first k in the next step\u001b[0m\u001b[0;34m\u001b[0m\u001b[0;34m\u001b[0m\u001b[0m\n\u001b[0;32m---> 11\u001b[0;31m \u001b[0mfindLabelsKClosestTrImages\u001b[0m \u001b[0;34m=\u001b[0m \u001b[0mtf\u001b[0m\u001b[0;34m.\u001b[0m\u001b[0mgather\u001b[0m\u001b[0;34m(\u001b[0m\u001b[0mtrLabels\u001b[0m\u001b[0;34m,\u001b[0m \u001b[0mfindKClosestTrImages\u001b[0m\u001b[0;34m[\u001b[0m\u001b[0;36m0\u001b[0m\u001b[0;34m:\u001b[0m\u001b[0mparamk\u001b[0m\u001b[0;34m]\u001b[0m\u001b[0;34m)\u001b[0m \u001b[0;31m# doing trLabels[findKClosestTrImages[0:paramk]] throws error, hence this workaround\u001b[0m\u001b[0;34m\u001b[0m\u001b[0;34m\u001b[0m\u001b[0m\n\u001b[0m\u001b[1;32m     12\u001b[0m \u001b[0mfindULabels\u001b[0m\u001b[0;34m,\u001b[0m \u001b[0mfindIdex\u001b[0m\u001b[0;34m,\u001b[0m \u001b[0mfindCounts\u001b[0m \u001b[0;34m=\u001b[0m \u001b[0mtf\u001b[0m\u001b[0;34m.\u001b[0m\u001b[0munique_with_counts\u001b[0m\u001b[0;34m(\u001b[0m\u001b[0mfindLabelsKClosestTrImages\u001b[0m\u001b[0;34m)\u001b[0m \u001b[0;31m# examine labels of k closest Train images\u001b[0m\u001b[0;34m\u001b[0m\u001b[0;34m\u001b[0m\u001b[0m\n\u001b[1;32m     13\u001b[0m \u001b[0mfindPredictedLabel\u001b[0m \u001b[0;34m=\u001b[0m \u001b[0mtf\u001b[0m\u001b[0;34m.\u001b[0m\u001b[0mgather\u001b[0m\u001b[0;34m(\u001b[0m\u001b[0mfindULabels\u001b[0m\u001b[0;34m,\u001b[0m \u001b[0mtf\u001b[0m\u001b[0;34m.\u001b[0m\u001b[0margmax\u001b[0m\u001b[0;34m(\u001b[0m\u001b[0mfindCounts\u001b[0m\u001b[0;34m)\u001b[0m\u001b[0;34m)\u001b[0m \u001b[0;31m# assign label to test image based on most occurring labels among k closest Train images\u001b[0m\u001b[0;34m\u001b[0m\u001b[0;34m\u001b[0m\u001b[0m\n",
      "\u001b[0;31mNameError\u001b[0m: name 'paramk' is not defined"
     ]
    }
   ],
   "source": [
    "k = 11 # parameter k of K-nearest neighbors\n",
    "\n",
    "# Defining KNN Graph with L0 Norm\n",
    "x = tf.placeholder(trainImages.dtype, shape=trainImages.shape) # all train images, i.e., 60000 x 28 x 28\n",
    "y = tf.placeholder(testImages.dtype, shape=testImages.shape[1:]) # a test image, 28 x 28\n",
    "\n",
    "xThresholded = tf.clip_by_value(tf.cast(x, tf.int32), 0, 1) # x is int8 which is not supported in many tf functions, hence typecast\n",
    "yThresholded = tf.clip_by_value(tf.cast(y, tf.int32), 0, 1) # clip_by_value converts dataset to tensors of 0 and 1, i.e., 1 where tensor is non-zero\n",
    "computeL0Dist = tf.count_nonzero(xThresholded - yThresholded, axis=[1,2]) # Computing L0 Norm by reducing along axes\n",
    "findKClosestTrImages = tf.contrib.framework.argsort(computeL0Dist, direction='ASCENDING') # sorting (image) indices in order of ascending metrics, pick first k in the next step\n",
    "findLabelsKClosestTrImages = tf.gather(trLabels, findKClosestTrImages[0:k]) # doing trLabels[findKClosestTrImages[0:k]] throws error, hence this workaround\n",
    "findULabels, findIdex, findCounts = tf.unique_with_counts(findLabelsKClosestTrImages) # examine labels of k closest Train images\n",
    "findPredictedLabel = tf.gather(findULabels, tf.argmax(findCounts)) # assign label to test image based on most occurring labels among k closest Train images\n",
    "\n",
    "# Let's run the graph\n",
    "numErrs = 0\n",
    "numTestImages = np.shape(tLabels)[0]\n",
    "numTrainImages = np.shape(trLabels)[0] # so many train images\n",
    "\n",
    "with tf.Session() as sess:\n",
    "    for iTeI in range(0,numTestImages): # iterate each image in test set\n",
    "        predictedLabel = sess.run([findPredictedLabel], feed_dict={x:trImages, y:tImages[iTeI]})\n",
    "        \n",
    "        if predictedLabel == tLabels[iTeI]:\n",
    "            numErrs += 1\n",
    "            print(numErrs,\"/\",iTeI)\n",
    "            print(\"\\t\\t\", predictedLabel[0], \"\\t\\t\\t\\t\", tLabels[iTeI])\n",
    "\n",
    "            if (1):\n",
    "                plt.figure(1)\n",
    "                plt.subplot(1,2,1)\n",
    "                plt.imshow(tImages[iTeI])\n",
    "                plt.title('Test Image has label %i' %(predictedLabel[0]))\n",
    "\n",
    "                for i in range(numTrainImages):\n",
    "                    if trLabels[i] == predictedLabel:\n",
    "                        plt.subplot(1,2,2)\n",
    "                        plt.imshow(trImages[i])\n",
    "                        plt.title('Correctly Labeled as %i' %(tLabels[iTeI]))\n",
    "                        plt.draw()\n",
    "                        break\n",
    "                plt.show()\n",
    "\n",
    "print(\"# Classification Errors= \", numErrs, \"% accuracy= \", 100.*(numTestImages-numErrs)/numTestImages)\n",
    "      "
   ]
  },
  {
   "cell_type": "code",
   "execution_count": null,
   "metadata": {},
   "outputs": [],
   "source": []
  }
 ],
 "metadata": {
  "kernelspec": {
   "display_name": "Python 3",
   "language": "python",
   "name": "python3"
  },
  "language_info": {
   "codemirror_mode": {
    "name": "ipython",
    "version": 3
   },
   "file_extension": ".py",
   "mimetype": "text/x-python",
   "name": "python",
   "nbconvert_exporter": "python",
   "pygments_lexer": "ipython3",
   "version": "3.6.8"
  }
 },
 "nbformat": 4,
 "nbformat_minor": 2
}
